{
  "nbformat": 4,
  "nbformat_minor": 0,
  "metadata": {
    "colab": {
      "provenance": [],
      "authorship_tag": "ABX9TyN9Q21TTeodWcLzG8Z2xucF",
      "include_colab_link": true
    },
    "kernelspec": {
      "name": "python3",
      "display_name": "Python 3"
    },
    "language_info": {
      "name": "python"
    }
  },
  "cells": [
    {
      "cell_type": "markdown",
      "metadata": {
        "id": "view-in-github",
        "colab_type": "text"
      },
      "source": [
        "<a href=\"https://colab.research.google.com/github/jaeseung11/python_code_90/blob/main/%EC%9D%B8%EC%8A%A4%ED%83%80_%EA%B9%80%ED%98%9C%EC%A0%95%EB%8B%98%EA%BA%BC_%EC%B0%B8%EA%B3%A0.ipynb\" target=\"_parent\"><img src=\"https://colab.research.google.com/assets/colab-badge.svg\" alt=\"Open In Colab\"/></a>"
      ]
    },
    {
      "cell_type": "code",
      "execution_count": 1,
      "metadata": {
        "id": "YV33ani5fH6u"
      },
      "outputs": [],
      "source": [
        "i = 11\n",
        "N = 10\n",
        "\n",
        "while i <= N: # 각행의 무한반복을 위함\n",
        "    num = i\n",
        "    while num >= i: # 숫자 무한 출력을 위함\n",
        "        if num == i:\n",
        "            print(num)\n",
        "            break\n",
        "    else:  # 종료조건이 아닐때 \n",
        "        print(num, end = ',')\n",
        "\n",
        "        if (num % 2 == 0):\n",
        "            num = int(num/2)\n",
        "        else:\n",
        "            num = num*3+1"
      ]
    },
    {
      "cell_type": "code",
      "source": [],
      "metadata": {
        "id": "WcA0G_SdnQH2"
      },
      "execution_count": null,
      "outputs": []
    }
  ]
}